{
 "cells": [
  {
   "cell_type": "code",
   "execution_count": 8,
   "id": "ea981cb3-aa70-4461-947e-850618b015fc",
   "metadata": {},
   "outputs": [
    {
     "name": "stdout",
     "output_type": "stream",
     "text": [
      "The sql extension is already loaded. To reload it, use:\n",
      "  %reload_ext sql\n"
     ]
    }
   ],
   "source": [
    "%load_ext sql"
   ]
  },
  {
   "cell_type": "code",
   "execution_count": 9,
   "id": "0f56c8fe-9222-4e11-9304-a0933cc54397",
   "metadata": {},
   "outputs": [],
   "source": [
    "import csv, sqlite3\n",
    "\n",
    "con = sqlite3.connect(\"my_data1.db\")\n",
    "cur = con.cursor()"
   ]
  },
  {
   "cell_type": "code",
   "execution_count": 10,
   "id": "1439c80a-ac09-4b62-9c5f-5788753da646",
   "metadata": {},
   "outputs": [],
   "source": [
    "%sql sqlite:///my_data1.db"
   ]
  },
  {
   "cell_type": "code",
   "execution_count": 12,
   "id": "8d372de1-d9c5-43a2-8550-f8a4a6b5c414",
   "metadata": {},
   "outputs": [
    {
     "data": {
      "text/plain": [
       "101"
      ]
     },
     "execution_count": 12,
     "metadata": {},
     "output_type": "execute_result"
    }
   ],
   "source": [
    "import pandas as pd\n",
    "df = pd.read_csv(\"https://cf-courses-data.s3.us.cloud-object-storage.appdomain.cloud/IBM-DS0321EN-SkillsNetwork/labs/module_2/data/Spacex.csv\")\n",
    "df.to_sql(\"SPACEXTBL\", con, if_exists='replace', index=False,method=\"multi\")"
   ]
  },
  {
   "cell_type": "code",
   "execution_count": 17,
   "id": "9c6b9b5a-ae16-4393-91c2-81f2daa2ebff",
   "metadata": {},
   "outputs": [
    {
     "name": "stdout",
     "output_type": "stream",
     "text": [
      " * sqlite:///my_data1.db\n",
      "(sqlite3.OperationalError) table SPACEXTABLE already exists\n",
      "[SQL: create table SPACEXTABLE as select * from SPACEXTBL where Date is not null]\n",
      "(Background on this error at: https://sqlalche.me/e/20/e3q8)\n"
     ]
    }
   ],
   "source": [
    "%sql create table SPACEXTABLE as select * from SPACEXTBL where Date is not null"
   ]
  },
  {
   "cell_type": "code",
   "execution_count": 25,
   "id": "d32660f5-5af0-4112-94c1-60c64f09171e",
   "metadata": {},
   "outputs": [],
   "source": [
    "con = sqlite3.connect(\"my_data1.db\")\n",
    "query = 'SELECT DISTINCT \"Launch_Site\" FROM SPACEXTABLE;'\n",
    "unique_sites = pd.read_sql_query(query, con)"
   ]
  },
  {
   "cell_type": "code",
   "execution_count": 26,
   "id": "bbb152ef-c069-4765-9f37-44dddcf07706",
   "metadata": {},
   "outputs": [
    {
     "name": "stdout",
     "output_type": "stream",
     "text": [
      "    Launch_Site\n",
      "0   CCAFS LC-40\n",
      "1   VAFB SLC-4E\n",
      "2    KSC LC-39A\n",
      "3  CCAFS SLC-40\n"
     ]
    }
   ],
   "source": [
    "print(unique_sites)"
   ]
  },
  {
   "cell_type": "code",
   "execution_count": 33,
   "id": "4825af5f-dc41-429c-a7ad-f20730372af3",
   "metadata": {},
   "outputs": [
    {
     "name": "stdout",
     "output_type": "stream",
     "text": [
      "         Date Time (UTC) Booster_Version Launch_Site        Payload  \\\n",
      "0  2017-02-19   14:39:00   F9 FT B1031.1  KSC LC-39A  SpaceX CRS-10   \n",
      "1  2017-03-16    6:00:00     F9 FT B1030  KSC LC-39A    EchoStar 23   \n",
      "2  2017-03-30   22:27:00  F9 FT  B1021.2  KSC LC-39A         SES-10   \n",
      "3  2017-05-01   11:15:00   F9 FT B1032.1  KSC LC-39A        NROL-76   \n",
      "4  2017-05-15   23:21:00     F9 FT B1034  KSC LC-39A  Inmarsat-5 F4   \n",
      "\n",
      "   PAYLOAD_MASS__KG_      Orbit    Customer Mission_Outcome  \\\n",
      "0               2490  LEO (ISS)  NASA (CRS)         Success   \n",
      "1               5600        GTO    EchoStar         Success   \n",
      "2               5300        GTO         SES         Success   \n",
      "3               5300        LEO         NRO         Success   \n",
      "4               6070        GTO    Inmarsat         Success   \n",
      "\n",
      "        Landing_Outcome  \n",
      "0  Success (ground pad)  \n",
      "1            No attempt  \n",
      "2  Success (drone ship)  \n",
      "3  Success (ground pad)  \n",
      "4            No attempt  \n"
     ]
    }
   ],
   "source": [
    "query = '''\n",
    "SELECT *\n",
    "FROM SPACEXTABLE\n",
    "WHERE \"Launch_Site\" LIKE 'KSC%'\n",
    "LIMIT 5;\n",
    "'''\n",
    "df_ksc = pd.read_sql_query(query, con)\n",
    "print(df_ksc)"
   ]
  },
  {
   "cell_type": "code",
   "execution_count": 34,
   "id": "7f459f82-6c6f-4a6e-b22f-b7e8a4a6c4b0",
   "metadata": {},
   "outputs": [
    {
     "name": "stdout",
     "output_type": "stream",
     "text": [
      "   total_payload_kg\n",
      "0             45596\n"
     ]
    }
   ],
   "source": [
    "query = '''\n",
    "SELECT SUM(\"Payload_Mass__kg_\") AS total_payload_kg\n",
    "FROM SPACEXTABLE\n",
    "WHERE \"Customer\" = 'NASA (CRS)';\n",
    "'''\n",
    "\n",
    "df_payload = pd.read_sql_query(query, con)\n",
    "print(df_payload)"
   ]
  },
  {
   "cell_type": "code",
   "execution_count": 36,
   "id": "249dacbd-ef89-49eb-99f5-790d13cc2fa3",
   "metadata": {},
   "outputs": [
    {
     "name": "stdout",
     "output_type": "stream",
     "text": [
      "   avg_payload_kg\n",
      "0          2928.4\n"
     ]
    }
   ],
   "source": [
    "query = '''\n",
    "SELECT AVG(\"Payload_Mass__kg_\") AS avg_payload_kg\n",
    "FROM SPACEXTABLE\n",
    "WHERE \"Booster_Version\" = 'F9 v1.1';\n",
    "'''\n",
    "\n",
    "df_avg_payload = pd.read_sql_query(query, con)\n",
    "print(df_avg_payload)"
   ]
  },
  {
   "cell_type": "code",
   "execution_count": 37,
   "id": "ad296f98-cacd-4f4f-868c-125e4e41de8a",
   "metadata": {},
   "outputs": [
    {
     "name": "stdout",
     "output_type": "stream",
     "text": [
      "  first_successful_landing\n",
      "0               2016-04-08\n"
     ]
    }
   ],
   "source": [
    "query = '''\n",
    "SELECT MIN(\"Date\") AS first_successful_landing\n",
    "FROM SPACEXTABLE\n",
    "WHERE \"Landing_Outcome\" = 'Success (drone ship)';\n",
    "'''\n",
    "\n",
    "df_first_landing = pd.read_sql_query(query, con)\n",
    "print(df_first_landing)"
   ]
  },
  {
   "cell_type": "code",
   "execution_count": 38,
   "id": "86773366-3f6a-418e-ace1-8bfdf45c54c3",
   "metadata": {},
   "outputs": [
    {
     "name": "stdout",
     "output_type": "stream",
     "text": [
      "  Booster_Version\n",
      "0   F9 FT B1032.1\n",
      "1   F9 B4 B1040.1\n",
      "2   F9 B4 B1043.1\n"
     ]
    }
   ],
   "source": [
    "query = '''\n",
    "SELECT DISTINCT \"Booster_Version\"\n",
    "FROM SPACEXTABLE\n",
    "WHERE \"Landing_Outcome\" = 'Success (ground pad)'\n",
    "  AND \"Payload_Mass__kg_\" > 4000\n",
    "  AND \"Payload_Mass__kg_\" < 6000;\n",
    "'''\n",
    "\n",
    "df_boosters = pd.read_sql_query(query, con)\n",
    "print(df_boosters)"
   ]
  },
  {
   "cell_type": "code",
   "execution_count": 39,
   "id": "b82b1199-75c0-4edf-ab41-bacfb71656c5",
   "metadata": {},
   "outputs": [
    {
     "name": "stdout",
     "output_type": "stream",
     "text": [
      "  mission_outcome  total\n",
      "0           Class    101\n"
     ]
    }
   ],
   "source": [
    "query = '''\n",
    "SELECT \"Class\" AS mission_outcome, COUNT(*) AS total\n",
    "FROM SPACEXTABLE\n",
    "GROUP BY \"Class\";\n",
    "'''\n",
    "\n",
    "df_mission_counts = pd.read_sql_query(query, con)\n",
    "print(df_mission_counts)"
   ]
  },
  {
   "cell_type": "code",
   "execution_count": 40,
   "id": "0e5bf2c2-b91a-44c6-9223-b55ac99764e0",
   "metadata": {},
   "outputs": [
    {
     "name": "stdout",
     "output_type": "stream",
     "text": [
      "   Booster_Version\n",
      "0    F9 B5 B1048.4\n",
      "1    F9 B5 B1049.4\n",
      "2    F9 B5 B1051.3\n",
      "3    F9 B5 B1056.4\n",
      "4    F9 B5 B1048.5\n",
      "5    F9 B5 B1051.4\n",
      "6    F9 B5 B1049.5\n",
      "7   F9 B5 B1060.2 \n",
      "8   F9 B5 B1058.3 \n",
      "9    F9 B5 B1051.6\n",
      "10   F9 B5 B1060.3\n",
      "11  F9 B5 B1049.7 \n"
     ]
    }
   ],
   "source": [
    "query = '''\n",
    "SELECT \"Booster_Version\"\n",
    "FROM SPACEXTABLE\n",
    "WHERE \"Payload_Mass__kg_\" = (\n",
    "    SELECT MAX(\"Payload_Mass__kg_\")\n",
    "    FROM SPACEXTABLE\n",
    ");\n",
    "'''\n",
    "\n",
    "df_max_payload_boosters = pd.read_sql_query(query, con)\n",
    "print(df_max_payload_boosters)"
   ]
  },
  {
   "cell_type": "code",
   "execution_count": 41,
   "id": "5e2aaa6d-febb-496e-b750-4a3b5eded20b",
   "metadata": {},
   "outputs": [
    {
     "name": "stdout",
     "output_type": "stream",
     "text": [
      "  month       Landing_Outcome Booster_Version   Launch_Site\n",
      "0    02  Success (ground pad)   F9 FT B1031.1    KSC LC-39A\n",
      "1    05  Success (ground pad)   F9 FT B1032.1    KSC LC-39A\n",
      "2    06  Success (ground pad)   F9 FT B1035.1    KSC LC-39A\n",
      "3    08  Success (ground pad)   F9 B4 B1039.1    KSC LC-39A\n",
      "4    09  Success (ground pad)   F9 B4 B1040.1    KSC LC-39A\n",
      "5    12  Success (ground pad)  F9 FT  B1035.2  CCAFS SLC-40\n"
     ]
    }
   ],
   "source": [
    "query = '''\n",
    "SELECT \n",
    "    substr(\"Date\", 6, 2) AS month,\n",
    "    \"Landing_Outcome\",\n",
    "    \"Booster_Version\",\n",
    "    \"Launch_Site\"\n",
    "FROM SPACEXTABLE\n",
    "WHERE \"Landing_Outcome\" = 'Success (ground pad)'\n",
    "  AND substr(\"Date\", 1, 4) = '2017';\n",
    "'''\n",
    "\n",
    "df_2017_ground_success = pd.read_sql_query(query, con)\n",
    "print(df_2017_ground_success)"
   ]
  },
  {
   "cell_type": "code",
   "execution_count": 42,
   "id": "09eb5ace-9e4d-4f0a-9883-104fd6ac71ff",
   "metadata": {},
   "outputs": [
    {
     "name": "stdout",
     "output_type": "stream",
     "text": [
      "          Landing_Outcome  outcome_count\n",
      "0              No attempt             10\n",
      "1    Success (drone ship)              5\n",
      "2    Failure (drone ship)              5\n",
      "3    Success (ground pad)              3\n",
      "4      Controlled (ocean)              3\n",
      "5    Uncontrolled (ocean)              2\n",
      "6     Failure (parachute)              2\n",
      "7  Precluded (drone ship)              1\n"
     ]
    }
   ],
   "source": [
    "query = '''\n",
    "SELECT \"Landing_Outcome\", COUNT(*) AS outcome_count\n",
    "FROM SPACEXTABLE\n",
    "WHERE \"Date\" BETWEEN '2010-06-04' AND '2017-03-20'\n",
    "GROUP BY \"Landing_Outcome\"\n",
    "ORDER BY outcome_count DESC;\n",
    "'''\n",
    "\n",
    "df_landing_counts = pd.read_sql_query(query, con)\n",
    "print(df_landing_counts)"
   ]
  },
  {
   "cell_type": "code",
   "execution_count": null,
   "id": "29f77bb0-5f04-4885-ab47-9e5432c01ed0",
   "metadata": {},
   "outputs": [],
   "source": []
  }
 ],
 "metadata": {
  "kernelspec": {
   "display_name": "Python 3 (ipykernel)",
   "language": "python",
   "name": "python3"
  },
  "language_info": {
   "codemirror_mode": {
    "name": "ipython",
    "version": 3
   },
   "file_extension": ".py",
   "mimetype": "text/x-python",
   "name": "python",
   "nbconvert_exporter": "python",
   "pygments_lexer": "ipython3",
   "version": "3.12.4"
  }
 },
 "nbformat": 4,
 "nbformat_minor": 5
}
